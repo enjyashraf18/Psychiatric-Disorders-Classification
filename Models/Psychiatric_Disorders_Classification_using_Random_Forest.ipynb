{
  "nbformat": 4,
  "nbformat_minor": 0,
  "metadata": {
    "colab": {
      "provenance": []
    },
    "kernelspec": {
      "name": "python3",
      "display_name": "Python 3"
    },
    "language_info": {
      "name": "python"
    }
  },
  "cells": [
    {
      "cell_type": "markdown",
      "source": [
        "### Additional Preprocessing Steps"
      ],
      "metadata": {
        "id": "ivtklP5omvbv"
      }
    },
    {
      "cell_type": "code",
      "execution_count": 60,
      "metadata": {
        "colab": {
          "base_uri": "https://localhost:8080/"
        },
        "id": "pew-gFFEmTW-",
        "outputId": "db8c098e-98da-482b-edcf-e1054094e905"
      },
      "outputs": [
        {
          "output_type": "stream",
          "name": "stdout",
          "text": [
            "<class 'pandas.core.frame.DataFrame'>\n",
            "RangeIndex: 945 entries, 0 to 944\n",
            "Columns: 1149 entries, no. to COH.gamma.O1.O2\n",
            "dtypes: float64(1144), int64(1), object(4)\n",
            "memory usage: 8.3+ MB\n",
            "None\n",
            "   no. sex   age    eeg.date  education     IQ       main.disorder  \\\n",
            "0    1   M  57.0   2012.8.30       13.0  102.0  Addictive disorder   \n",
            "1    2   M  37.0    2012.9.6        6.0  120.0  Addictive disorder   \n",
            "2    3   M  32.0   2012.9.10       16.0  113.0  Addictive disorder   \n",
            "3    4   M  35.0   2012.10.8       18.0  126.0  Addictive disorder   \n",
            "4    5   M  36.0  2012.10.18       16.0  112.0  Addictive disorder   \n",
            "\n",
            "      specific.disorder  delta.FP1  delta.FP2  ...  COH.gamma.Pz.P4  \\\n",
            "0  Alcohol use disorder  35.998557  21.717375  ...        55.989192   \n",
            "1  Alcohol use disorder  13.425118  11.002916  ...        45.595619   \n",
            "2  Alcohol use disorder  29.941780  27.544684  ...        99.475453   \n",
            "3  Alcohol use disorder  21.496226  21.846832  ...        59.986561   \n",
            "4  Alcohol use disorder  37.775667  33.607679  ...        61.462720   \n",
            "\n",
            "   COH.gamma.Pz.T6  COH.gamma.Pz.O1  COH.gamma.Pz.O2  COH.gamma.P4.T6  \\\n",
            "0        16.739679        23.452271        45.678820        30.167520   \n",
            "1        17.510824        26.777368        28.201062        57.108861   \n",
            "2        70.654171        39.131547        69.920996        71.063644   \n",
            "3        63.822201        36.478254        47.117006        84.658376   \n",
            "4        59.166097        51.465531        58.635415        80.685608   \n",
            "\n",
            "   COH.gamma.P4.O1  COH.gamma.P4.O2  COH.gamma.T6.O1  COH.gamma.T6.O2  \\\n",
            "0        16.918761        48.850427         9.422630        34.507082   \n",
            "1        32.375401        60.351749        13.900981        57.831848   \n",
            "2        38.534505        69.908764        27.180532        64.803155   \n",
            "3        24.724096        50.299349        35.319695        79.822944   \n",
            "4        62.138436        75.888749        61.003944        87.455509   \n",
            "\n",
            "   COH.gamma.O1.O2  \n",
            "0        28.613029  \n",
            "1        43.463261  \n",
            "2        31.485799  \n",
            "3        41.141873  \n",
            "4        70.531662  \n",
            "\n",
            "[5 rows x 1149 columns]\n",
            "main.disorder\n",
            "Mood disorder                         266\n",
            "Addictive disorder                    186\n",
            "Trauma and stress related disorder    128\n",
            "Schizophrenia                         117\n",
            "Anxiety disorder                      107\n",
            "Healthy control                        95\n",
            "Obsessive compulsive disorder          46\n",
            "Name: count, dtype: int64\n"
          ]
        }
      ],
      "source": [
        "import pandas as pd\n",
        "import numpy as np\n",
        "\n",
        "# load the dataset\n",
        "data = pd.read_csv('/content/sample_data/dataset.csv')\n",
        "\n",
        "# basic info\n",
        "print(data.info())\n",
        "print(data.head())\n",
        "\n",
        "# class distribution\n",
        "print(data['main.disorder'].value_counts())"
      ]
    },
    {
      "cell_type": "code",
      "source": [
        "from sklearn.preprocessing import LabelEncoder\n",
        "\n",
        "# drop irrelevant columns\n",
        "# data = data.drop(['no.','eeg.date', 'Unnamed: 122'], axis= 1)\n",
        "\n",
        "data = data.drop(columns=[\"education\",\"IQ\",\"Unnamed: 122\",\"no.\",\"sex\",\"age\",\"eeg.date\",\"specific.disorder\"])\n",
        "\n",
        "# encode sex\n",
        "# data['sex'] = data['sex'].map({'M': 1, 'F':0})\n",
        "\n",
        "le = LabelEncoder()\n",
        "data['main.disorder'] = le.fit_transform(data['main.disorder'])\n",
        "\n",
        "# numeric_cols = data.select_dtypes(include=[np.number]).columns\n",
        "\n",
        "# # Handle outliers\n",
        "# for col in numeric_cols:\n",
        "#     if col in data.columns:  # Ensure column still exists\n",
        "#         data[col] = data[col].clip(lower=data[col].quantile(0.01), upper=data[col].quantile(0.99))"
      ],
      "metadata": {
        "id": "sO4QVVidntKr"
      },
      "execution_count": 61,
      "outputs": []
    },
    {
      "cell_type": "code",
      "source": [
        "from sklearn.ensemble import RandomForestClassifier\n",
        "from sklearn.model_selection import train_test_split\n",
        "from sklearn.preprocessing import LabelEncoder, StandardScaler\n",
        "from imblearn.over_sampling import SMOTE\n",
        "\n",
        "data_x = data.drop(['main.disorder'], axis=1)\n",
        "data_y = data['main.disorder']\n",
        "\n",
        "# split the data\n",
        "x_train, x_test, y_train, y_test = train_test_split(data_x, data_y, test_size=0.2, random_state=42)\n",
        "\n",
        "# Handle class imbalance with SMOTE\n",
        "# Set sampling strategy to match the majority class\n",
        "class_counts = y_train.value_counts()\n",
        "sampling_strategy = {label: max(class_counts) for label in class_counts.index}\n",
        "smote = SMOTE(sampling_strategy=sampling_strategy, random_state=42)\n",
        "X_train_balanced, y_train_balanced = smote.fit_resample(x_train, y_train)\n",
        "print(\"Class distribution after SMOTE:\\n\", pd.Series(y_train_balanced).value_counts())\n",
        "\n",
        "x_train = X_train_balanced\n",
        "y_train = y_train_balanced"
      ],
      "metadata": {
        "colab": {
          "base_uri": "https://localhost:8080/"
        },
        "id": "IONujk2Yq53Q",
        "outputId": "44424f8c-3157-4894-a19e-9029f5f65854"
      },
      "execution_count": 63,
      "outputs": [
        {
          "output_type": "stream",
          "name": "stdout",
          "text": [
            "Class distribution after SMOTE:\n",
            " main.disorder\n",
            "3    210\n",
            "5    210\n",
            "0    210\n",
            "1    210\n",
            "6    210\n",
            "2    210\n",
            "4    210\n",
            "Name: count, dtype: int64\n"
          ]
        }
      ]
    },
    {
      "cell_type": "code",
      "source": [
        "# using random forest for classification\n",
        "random_forest_model = RandomForestClassifier(\n",
        "    n_estimators=100,\n",
        "    min_samples_split=2,\n",
        "    min_samples_leaf=1,\n",
        "    max_depth = None,\n",
        "    random_state=42,\n",
        "    class_weight='balanced'\n",
        "    )\n",
        "random_forest_model.fit(x_train, y_train)\n",
        "y_test_pred = random_forest_model.predict(x_test)"
      ],
      "metadata": {
        "id": "psreCem0ru2L"
      },
      "execution_count": 64,
      "outputs": []
    },
    {
      "cell_type": "code",
      "source": [
        "# hyperparameter tuning\n",
        "from sklearn.model_selection import GridSearchCV\n",
        "\n",
        "param_grid = {\n",
        "    'n_estimators': [50, 100, 200],\n",
        "    'max_depth': [10, 20, None],\n",
        "    'min_samples_split': [2, 5, 10],\n",
        "    'min_samples_leaf': [1, 2, 4]\n",
        "}\n",
        "\n",
        "grid_search = GridSearchCV(\n",
        "    RandomForestClassifier(random_state=42),\n",
        "    param_grid,\n",
        "    cv=5,\n",
        "    scoring='f1_weighted',\n",
        "    n_jobs=-1\n",
        ")\n",
        "grid_search.fit(x_train, y_train)\n",
        "\n",
        "# best parameters\n",
        "print(\"Best parameters:\", grid_search.best_params_)"
      ],
      "metadata": {
        "colab": {
          "base_uri": "https://localhost:8080/"
        },
        "id": "JOSnQe3ZsUul",
        "outputId": "fc41c183-9616-43f2-c377-8e1736192f8e"
      },
      "execution_count": 65,
      "outputs": [
        {
          "output_type": "stream",
          "name": "stdout",
          "text": [
            "Best parameters: {'max_depth': 20, 'min_samples_leaf': 1, 'min_samples_split': 2, 'n_estimators': 100}\n"
          ]
        }
      ]
    },
    {
      "cell_type": "code",
      "source": [
        "best_random_forest_model = grid_search.best_estimator_\n",
        "\n",
        "# evaluate best model\n",
        "y_test_pred = best_random_forest_model.predict(x_test)"
      ],
      "metadata": {
        "id": "wUUyptD9xitp"
      },
      "execution_count": 56,
      "outputs": []
    },
    {
      "cell_type": "code",
      "source": [
        "from sklearn.metrics import accuracy_score, precision_score, recall_score, f1_score, confusion_matrix, roc_auc_score\n",
        "\n",
        "accuracy = accuracy_score(y_test, y_test_pred)\n",
        "precision = precision_score(y_test, y_test_pred, average='weighted')\n",
        "recall = recall_score(y_test, y_test_pred, average='weighted')\n",
        "f1 = f1_score(y_test, y_test_pred, average='weighted')\n",
        "\n",
        "print(f\"accuracy: {accuracy * 100 :.4f} \")\n",
        "print(f\"precision: {precision:.4f}\")\n",
        "print(f\"recall: {recall:.4f}\")\n",
        "print(f\"f1-score: {f1:.4f}\")\n",
        "\n",
        "y_test_prob = best_random_forest_model.predict_proba(x_test)\n",
        "auc = roc_auc_score(y_test, y_test_prob, multi_class='ovr')\n",
        "print(f\"AUC-ROC: {auc:.4f}\")"
      ],
      "metadata": {
        "colab": {
          "base_uri": "https://localhost:8080/"
        },
        "id": "pkS6o4Fyxs7w",
        "outputId": "661a62d2-c5f8-4f6a-c06b-bb88570beeac"
      },
      "execution_count": 58,
      "outputs": [
        {
          "output_type": "stream",
          "name": "stdout",
          "text": [
            "accuracy: 27.5132 \n",
            "precision: 0.2764\n",
            "recall: 0.2751\n",
            "f1-score: 0.2705\n",
            "AUC-ROC: 0.6300\n"
          ]
        }
      ]
    }
  ]
}