{
 "cells": [
  {
   "cell_type": "code",
   "execution_count": 1,
   "id": "09ebed43",
   "metadata": {
    "_cell_guid": "b1076dfc-b9ad-4769-8c92-a6c4dae69d19",
    "_uuid": "8f2839f25d086af736a60e9eeb907d3b93b6e0e5",
    "execution": {
     "iopub.execute_input": "2023-05-13T06:00:38.519961Z",
     "iopub.status.busy": "2023-05-13T06:00:38.519354Z",
     "iopub.status.idle": "2023-05-13T06:00:38.535833Z",
     "shell.execute_reply": "2023-05-13T06:00:38.534280Z"
    },
    "papermill": {
     "duration": 0.031005,
     "end_time": "2023-05-13T06:00:38.539004",
     "exception": false,
     "start_time": "2023-05-13T06:00:38.507999",
     "status": "completed"
    },
    "tags": []
   },
   "outputs": [
    {
     "name": "stdout",
     "output_type": "stream",
     "text": [
      "/kaggle/input/eeg-psychiatric-disorders-dataset/EEG.machinelearing_data_BRMH.csv\n"
     ]
    }
   ],
   "source": [
    "# This Python 3 environment comes with many helpful analytics libraries installed\n",
    "# It is defined by the kaggle/python Docker image: https://github.com/kaggle/docker-python\n",
    "# For example, here's several helpful packages to load\n",
    "\n",
    "import numpy as np # linear algebra\n",
    "import pandas as pd # data processing, CSV file I/O (e.g. pd.read_csv)\n",
    "\n",
    "# Input data files are available in the read-only \"../input/\" directory\n",
    "# For example, running this (by clicking run or pressing Shift+Enter) will list all files under the input directory\n",
    "\n",
    "import os\n",
    "for dirname, _, filenames in os.walk('/kaggle/input'):\n",
    "    for filename in filenames:\n",
    "        print(os.path.join(dirname, filename))\n",
    "\n",
    "# You can write up to 20GB to the current directory (/kaggle/working/) that gets preserved as output when you create a version using \"Save & Run All\" \n",
    "# You can also write temporary files to /kaggle/temp/, but they won't be saved outside of the current session"
   ]
  },
  {
   "cell_type": "code",
   "execution_count": 2,
   "id": "08bafaea",
   "metadata": {
    "execution": {
     "iopub.execute_input": "2023-05-13T06:00:38.559038Z",
     "iopub.status.busy": "2023-05-13T06:00:38.558629Z",
     "iopub.status.idle": "2023-05-13T06:00:39.818383Z",
     "shell.execute_reply": "2023-05-13T06:00:39.817026Z"
    },
    "papermill": {
     "duration": 1.273259,
     "end_time": "2023-05-13T06:00:39.821442",
     "exception": false,
     "start_time": "2023-05-13T06:00:38.548183",
     "status": "completed"
    },
    "tags": []
   },
   "outputs": [],
   "source": [
    "import numpy as np\n",
    "import pandas as pd\n",
    "from sklearn.model_selection import train_test_split\n",
    "from sklearn.metrics import confusion_matrix, classification_report"
   ]
  },
  {
   "cell_type": "code",
   "execution_count": 3,
   "id": "8c24ad43",
   "metadata": {
    "execution": {
     "iopub.execute_input": "2023-05-13T06:00:39.840800Z",
     "iopub.status.busy": "2023-05-13T06:00:39.840363Z",
     "iopub.status.idle": "2023-05-13T06:00:39.845980Z",
     "shell.execute_reply": "2023-05-13T06:00:39.844696Z"
    },
    "papermill": {
     "duration": 0.018507,
     "end_time": "2023-05-13T06:00:39.848566",
     "exception": false,
     "start_time": "2023-05-13T06:00:39.830059",
     "status": "completed"
    },
    "tags": []
   },
   "outputs": [],
   "source": [
    "\n",
    "from sklearn.model_selection import cross_val_score"
   ]
  },
  {
   "cell_type": "code",
   "execution_count": 4,
   "id": "e57628fd",
   "metadata": {
    "execution": {
     "iopub.execute_input": "2023-05-13T06:00:39.867072Z",
     "iopub.status.busy": "2023-05-13T06:00:39.866635Z",
     "iopub.status.idle": "2023-05-13T06:00:40.196065Z",
     "shell.execute_reply": "2023-05-13T06:00:40.194631Z"
    },
    "papermill": {
     "duration": 0.342122,
     "end_time": "2023-05-13T06:00:40.199080",
     "exception": false,
     "start_time": "2023-05-13T06:00:39.856958",
     "status": "completed"
    },
    "tags": []
   },
   "outputs": [],
   "source": [
    "import seaborn as sns\n",
    "import matplotlib.pyplot as plt"
   ]
  },
  {
   "cell_type": "code",
   "execution_count": 5,
   "id": "e3dc6901",
   "metadata": {
    "execution": {
     "iopub.execute_input": "2023-05-13T06:00:40.218316Z",
     "iopub.status.busy": "2023-05-13T06:00:40.217265Z",
     "iopub.status.idle": "2023-05-13T06:00:40.598128Z",
     "shell.execute_reply": "2023-05-13T06:00:40.596955Z"
    },
    "papermill": {
     "duration": 0.393553,
     "end_time": "2023-05-13T06:00:40.601172",
     "exception": false,
     "start_time": "2023-05-13T06:00:40.207619",
     "status": "completed"
    },
    "tags": []
   },
   "outputs": [],
   "source": [
    "data = pd.read_csv('/kaggle/input/eeg-psychiatric-disorders-dataset/EEG.machinelearing_data_BRMH.csv')"
   ]
  },
  {
   "cell_type": "code",
   "execution_count": 6,
   "id": "619227a1",
   "metadata": {
    "execution": {
     "iopub.execute_input": "2023-05-13T06:00:40.621505Z",
     "iopub.status.busy": "2023-05-13T06:00:40.620778Z",
     "iopub.status.idle": "2023-05-13T06:00:40.698544Z",
     "shell.execute_reply": "2023-05-13T06:00:40.696961Z"
    },
    "papermill": {
     "duration": 0.0907,
     "end_time": "2023-05-13T06:00:40.701069",
     "exception": false,
     "start_time": "2023-05-13T06:00:40.610369",
     "status": "completed"
    },
    "tags": []
   },
   "outputs": [
    {
     "name": "stdout",
     "output_type": "stream",
     "text": [
      "<class 'pandas.core.frame.DataFrame'>\n",
      "RangeIndex: 945 entries, 0 to 944\n",
      "Columns: 1149 entries, no. to COH.F.gamma.r.O1.s.O2\n",
      "dtypes: float64(1144), int64(1), object(4)\n",
      "memory usage: 8.3+ MB\n",
      "None\n"
     ]
    }
   ],
   "source": [
    "print(data.info())"
   ]
  },
  {
   "cell_type": "code",
   "execution_count": 7,
   "id": "675a0592",
   "metadata": {
    "execution": {
     "iopub.execute_input": "2023-05-13T06:00:40.720101Z",
     "iopub.status.busy": "2023-05-13T06:00:40.719367Z",
     "iopub.status.idle": "2023-05-13T06:00:40.727900Z",
     "shell.execute_reply": "2023-05-13T06:00:40.726485Z"
    },
    "papermill": {
     "duration": 0.02082,
     "end_time": "2023-05-13T06:00:40.730249",
     "exception": false,
     "start_time": "2023-05-13T06:00:40.709429",
     "status": "completed"
    },
    "tags": []
   },
   "outputs": [
    {
     "data": {
      "text/plain": [
       "(945, 1149)"
      ]
     },
     "execution_count": 7,
     "metadata": {},
     "output_type": "execute_result"
    }
   ],
   "source": [
    "data.shape"
   ]
  },
  {
   "cell_type": "code",
   "execution_count": 8,
   "id": "b99e3e57",
   "metadata": {
    "execution": {
     "iopub.execute_input": "2023-05-13T06:00:40.751368Z",
     "iopub.status.busy": "2023-05-13T06:00:40.750604Z",
     "iopub.status.idle": "2023-05-13T06:00:40.801836Z",
     "shell.execute_reply": "2023-05-13T06:00:40.800339Z"
    },
    "papermill": {
     "duration": 0.065127,
     "end_time": "2023-05-13T06:00:40.804944",
     "exception": false,
     "start_time": "2023-05-13T06:00:40.739817",
     "status": "completed"
    },
    "tags": []
   },
   "outputs": [
    {
     "data": {
      "text/html": [
       "<div>\n",
       "<style scoped>\n",
       "    .dataframe tbody tr th:only-of-type {\n",
       "        vertical-align: middle;\n",
       "    }\n",
       "\n",
       "    .dataframe tbody tr th {\n",
       "        vertical-align: top;\n",
       "    }\n",
       "\n",
       "    .dataframe thead th {\n",
       "        text-align: right;\n",
       "    }\n",
       "</style>\n",
       "<table border=\"1\" class=\"dataframe\">\n",
       "  <thead>\n",
       "    <tr style=\"text-align: right;\">\n",
       "      <th></th>\n",
       "      <th>no.</th>\n",
       "      <th>sex</th>\n",
       "      <th>age</th>\n",
       "      <th>eeg.date</th>\n",
       "      <th>education</th>\n",
       "      <th>IQ</th>\n",
       "      <th>main.disorder</th>\n",
       "      <th>specific.disorder</th>\n",
       "      <th>AB.A.delta.a.FP1</th>\n",
       "      <th>AB.A.delta.b.FP2</th>\n",
       "      <th>...</th>\n",
       "      <th>COH.F.gamma.o.Pz.p.P4</th>\n",
       "      <th>COH.F.gamma.o.Pz.q.T6</th>\n",
       "      <th>COH.F.gamma.o.Pz.r.O1</th>\n",
       "      <th>COH.F.gamma.o.Pz.s.O2</th>\n",
       "      <th>COH.F.gamma.p.P4.q.T6</th>\n",
       "      <th>COH.F.gamma.p.P4.r.O1</th>\n",
       "      <th>COH.F.gamma.p.P4.s.O2</th>\n",
       "      <th>COH.F.gamma.q.T6.r.O1</th>\n",
       "      <th>COH.F.gamma.q.T6.s.O2</th>\n",
       "      <th>COH.F.gamma.r.O1.s.O2</th>\n",
       "    </tr>\n",
       "  </thead>\n",
       "  <tbody>\n",
       "    <tr>\n",
       "      <th>0</th>\n",
       "      <td>1</td>\n",
       "      <td>M</td>\n",
       "      <td>57.0</td>\n",
       "      <td>2012.8.30</td>\n",
       "      <td>NaN</td>\n",
       "      <td>NaN</td>\n",
       "      <td>Addictive disorder</td>\n",
       "      <td>Alcohol use disorder</td>\n",
       "      <td>35.998557</td>\n",
       "      <td>21.717375</td>\n",
       "      <td>...</td>\n",
       "      <td>55.989192</td>\n",
       "      <td>16.739679</td>\n",
       "      <td>23.452271</td>\n",
       "      <td>45.678820</td>\n",
       "      <td>30.167520</td>\n",
       "      <td>16.918761</td>\n",
       "      <td>48.850427</td>\n",
       "      <td>9.422630</td>\n",
       "      <td>34.507082</td>\n",
       "      <td>28.613029</td>\n",
       "    </tr>\n",
       "    <tr>\n",
       "      <th>1</th>\n",
       "      <td>2</td>\n",
       "      <td>M</td>\n",
       "      <td>37.0</td>\n",
       "      <td>2012.9.6</td>\n",
       "      <td>6.0</td>\n",
       "      <td>120.0</td>\n",
       "      <td>Addictive disorder</td>\n",
       "      <td>Alcohol use disorder</td>\n",
       "      <td>13.425118</td>\n",
       "      <td>11.002916</td>\n",
       "      <td>...</td>\n",
       "      <td>45.595619</td>\n",
       "      <td>17.510824</td>\n",
       "      <td>26.777368</td>\n",
       "      <td>28.201062</td>\n",
       "      <td>57.108861</td>\n",
       "      <td>32.375401</td>\n",
       "      <td>60.351749</td>\n",
       "      <td>13.900981</td>\n",
       "      <td>57.831848</td>\n",
       "      <td>43.463261</td>\n",
       "    </tr>\n",
       "    <tr>\n",
       "      <th>2</th>\n",
       "      <td>3</td>\n",
       "      <td>M</td>\n",
       "      <td>32.0</td>\n",
       "      <td>2012.9.10</td>\n",
       "      <td>16.0</td>\n",
       "      <td>113.0</td>\n",
       "      <td>Addictive disorder</td>\n",
       "      <td>Alcohol use disorder</td>\n",
       "      <td>29.941780</td>\n",
       "      <td>27.544684</td>\n",
       "      <td>...</td>\n",
       "      <td>99.475453</td>\n",
       "      <td>70.654171</td>\n",
       "      <td>39.131547</td>\n",
       "      <td>69.920996</td>\n",
       "      <td>71.063644</td>\n",
       "      <td>38.534505</td>\n",
       "      <td>69.908764</td>\n",
       "      <td>27.180532</td>\n",
       "      <td>64.803155</td>\n",
       "      <td>31.485799</td>\n",
       "    </tr>\n",
       "    <tr>\n",
       "      <th>3</th>\n",
       "      <td>4</td>\n",
       "      <td>M</td>\n",
       "      <td>35.0</td>\n",
       "      <td>2012.10.8</td>\n",
       "      <td>18.0</td>\n",
       "      <td>126.0</td>\n",
       "      <td>Addictive disorder</td>\n",
       "      <td>Alcohol use disorder</td>\n",
       "      <td>21.496226</td>\n",
       "      <td>21.846832</td>\n",
       "      <td>...</td>\n",
       "      <td>59.986561</td>\n",
       "      <td>63.822201</td>\n",
       "      <td>36.478254</td>\n",
       "      <td>47.117006</td>\n",
       "      <td>84.658376</td>\n",
       "      <td>24.724096</td>\n",
       "      <td>50.299349</td>\n",
       "      <td>35.319695</td>\n",
       "      <td>79.822944</td>\n",
       "      <td>41.141873</td>\n",
       "    </tr>\n",
       "    <tr>\n",
       "      <th>4</th>\n",
       "      <td>5</td>\n",
       "      <td>M</td>\n",
       "      <td>36.0</td>\n",
       "      <td>2012.10.18</td>\n",
       "      <td>16.0</td>\n",
       "      <td>112.0</td>\n",
       "      <td>Addictive disorder</td>\n",
       "      <td>Alcohol use disorder</td>\n",
       "      <td>37.775667</td>\n",
       "      <td>33.607679</td>\n",
       "      <td>...</td>\n",
       "      <td>61.462720</td>\n",
       "      <td>59.166097</td>\n",
       "      <td>51.465531</td>\n",
       "      <td>58.635415</td>\n",
       "      <td>80.685608</td>\n",
       "      <td>62.138436</td>\n",
       "      <td>75.888749</td>\n",
       "      <td>61.003944</td>\n",
       "      <td>87.455509</td>\n",
       "      <td>70.531662</td>\n",
       "    </tr>\n",
       "    <tr>\n",
       "      <th>5</th>\n",
       "      <td>6</td>\n",
       "      <td>F</td>\n",
       "      <td>24.0</td>\n",
       "      <td>2012.11.21</td>\n",
       "      <td>14.0</td>\n",
       "      <td>105.0</td>\n",
       "      <td>Addictive disorder</td>\n",
       "      <td>Alcohol use disorder</td>\n",
       "      <td>13.482096</td>\n",
       "      <td>14.095855</td>\n",
       "      <td>...</td>\n",
       "      <td>92.841723</td>\n",
       "      <td>82.302355</td>\n",
       "      <td>83.938567</td>\n",
       "      <td>88.213886</td>\n",
       "      <td>90.972026</td>\n",
       "      <td>77.443894</td>\n",
       "      <td>89.545596</td>\n",
       "      <td>72.579530</td>\n",
       "      <td>89.462863</td>\n",
       "      <td>86.127823</td>\n",
       "    </tr>\n",
       "    <tr>\n",
       "      <th>6</th>\n",
       "      <td>7</td>\n",
       "      <td>F</td>\n",
       "      <td>26.0</td>\n",
       "      <td>2012.12.3</td>\n",
       "      <td>16.0</td>\n",
       "      <td>103.0</td>\n",
       "      <td>Addictive disorder</td>\n",
       "      <td>Alcohol use disorder</td>\n",
       "      <td>21.780747</td>\n",
       "      <td>26.655328</td>\n",
       "      <td>...</td>\n",
       "      <td>73.017845</td>\n",
       "      <td>50.593309</td>\n",
       "      <td>56.250644</td>\n",
       "      <td>46.572808</td>\n",
       "      <td>69.617082</td>\n",
       "      <td>51.808149</td>\n",
       "      <td>56.495169</td>\n",
       "      <td>52.526873</td>\n",
       "      <td>62.801103</td>\n",
       "      <td>56.710212</td>\n",
       "    </tr>\n",
       "    <tr>\n",
       "      <th>7</th>\n",
       "      <td>8</td>\n",
       "      <td>M</td>\n",
       "      <td>23.0</td>\n",
       "      <td>2013.1.17</td>\n",
       "      <td>12.0</td>\n",
       "      <td>104.0</td>\n",
       "      <td>Addictive disorder</td>\n",
       "      <td>Alcohol use disorder</td>\n",
       "      <td>11.704212</td>\n",
       "      <td>10.600361</td>\n",
       "      <td>...</td>\n",
       "      <td>91.645799</td>\n",
       "      <td>63.962652</td>\n",
       "      <td>58.120225</td>\n",
       "      <td>69.767127</td>\n",
       "      <td>80.165627</td>\n",
       "      <td>58.648915</td>\n",
       "      <td>79.533814</td>\n",
       "      <td>35.510554</td>\n",
       "      <td>45.811328</td>\n",
       "      <td>60.417464</td>\n",
       "    </tr>\n",
       "    <tr>\n",
       "      <th>8</th>\n",
       "      <td>9</td>\n",
       "      <td>M</td>\n",
       "      <td>24.0</td>\n",
       "      <td>2013.2.15</td>\n",
       "      <td>17.0</td>\n",
       "      <td>89.0</td>\n",
       "      <td>Addictive disorder</td>\n",
       "      <td>Alcohol use disorder</td>\n",
       "      <td>8.531635</td>\n",
       "      <td>8.668278</td>\n",
       "      <td>...</td>\n",
       "      <td>47.703314</td>\n",
       "      <td>34.685504</td>\n",
       "      <td>38.526848</td>\n",
       "      <td>75.189718</td>\n",
       "      <td>47.003045</td>\n",
       "      <td>32.248734</td>\n",
       "      <td>77.707001</td>\n",
       "      <td>33.095903</td>\n",
       "      <td>67.985045</td>\n",
       "      <td>65.377007</td>\n",
       "    </tr>\n",
       "    <tr>\n",
       "      <th>9</th>\n",
       "      <td>10</td>\n",
       "      <td>F</td>\n",
       "      <td>30.0</td>\n",
       "      <td>2013.2.8</td>\n",
       "      <td>12.0</td>\n",
       "      <td>98.0</td>\n",
       "      <td>Addictive disorder</td>\n",
       "      <td>Alcohol use disorder</td>\n",
       "      <td>14.853668</td>\n",
       "      <td>12.614058</td>\n",
       "      <td>...</td>\n",
       "      <td>83.249851</td>\n",
       "      <td>39.820829</td>\n",
       "      <td>70.283171</td>\n",
       "      <td>64.150040</td>\n",
       "      <td>63.783769</td>\n",
       "      <td>45.423004</td>\n",
       "      <td>61.922878</td>\n",
       "      <td>19.639653</td>\n",
       "      <td>54.220350</td>\n",
       "      <td>53.456534</td>\n",
       "    </tr>\n",
       "  </tbody>\n",
       "</table>\n",
       "<p>10 rows × 1149 columns</p>\n",
       "</div>"
      ],
      "text/plain": [
       "   no. sex   age    eeg.date  education     IQ       main.disorder  \\\n",
       "0    1   M  57.0   2012.8.30        NaN    NaN  Addictive disorder   \n",
       "1    2   M  37.0    2012.9.6        6.0  120.0  Addictive disorder   \n",
       "2    3   M  32.0   2012.9.10       16.0  113.0  Addictive disorder   \n",
       "3    4   M  35.0   2012.10.8       18.0  126.0  Addictive disorder   \n",
       "4    5   M  36.0  2012.10.18       16.0  112.0  Addictive disorder   \n",
       "5    6   F  24.0  2012.11.21       14.0  105.0  Addictive disorder   \n",
       "6    7   F  26.0   2012.12.3       16.0  103.0  Addictive disorder   \n",
       "7    8   M  23.0   2013.1.17       12.0  104.0  Addictive disorder   \n",
       "8    9   M  24.0   2013.2.15       17.0   89.0  Addictive disorder   \n",
       "9   10   F  30.0    2013.2.8       12.0   98.0  Addictive disorder   \n",
       "\n",
       "      specific.disorder  AB.A.delta.a.FP1  AB.A.delta.b.FP2  ...  \\\n",
       "0  Alcohol use disorder         35.998557         21.717375  ...   \n",
       "1  Alcohol use disorder         13.425118         11.002916  ...   \n",
       "2  Alcohol use disorder         29.941780         27.544684  ...   \n",
       "3  Alcohol use disorder         21.496226         21.846832  ...   \n",
       "4  Alcohol use disorder         37.775667         33.607679  ...   \n",
       "5  Alcohol use disorder         13.482096         14.095855  ...   \n",
       "6  Alcohol use disorder         21.780747         26.655328  ...   \n",
       "7  Alcohol use disorder         11.704212         10.600361  ...   \n",
       "8  Alcohol use disorder          8.531635          8.668278  ...   \n",
       "9  Alcohol use disorder         14.853668         12.614058  ...   \n",
       "\n",
       "   COH.F.gamma.o.Pz.p.P4  COH.F.gamma.o.Pz.q.T6  COH.F.gamma.o.Pz.r.O1  \\\n",
       "0              55.989192              16.739679              23.452271   \n",
       "1              45.595619              17.510824              26.777368   \n",
       "2              99.475453              70.654171              39.131547   \n",
       "3              59.986561              63.822201              36.478254   \n",
       "4              61.462720              59.166097              51.465531   \n",
       "5              92.841723              82.302355              83.938567   \n",
       "6              73.017845              50.593309              56.250644   \n",
       "7              91.645799              63.962652              58.120225   \n",
       "8              47.703314              34.685504              38.526848   \n",
       "9              83.249851              39.820829              70.283171   \n",
       "\n",
       "   COH.F.gamma.o.Pz.s.O2  COH.F.gamma.p.P4.q.T6  COH.F.gamma.p.P4.r.O1  \\\n",
       "0              45.678820              30.167520              16.918761   \n",
       "1              28.201062              57.108861              32.375401   \n",
       "2              69.920996              71.063644              38.534505   \n",
       "3              47.117006              84.658376              24.724096   \n",
       "4              58.635415              80.685608              62.138436   \n",
       "5              88.213886              90.972026              77.443894   \n",
       "6              46.572808              69.617082              51.808149   \n",
       "7              69.767127              80.165627              58.648915   \n",
       "8              75.189718              47.003045              32.248734   \n",
       "9              64.150040              63.783769              45.423004   \n",
       "\n",
       "   COH.F.gamma.p.P4.s.O2  COH.F.gamma.q.T6.r.O1  COH.F.gamma.q.T6.s.O2  \\\n",
       "0              48.850427               9.422630              34.507082   \n",
       "1              60.351749              13.900981              57.831848   \n",
       "2              69.908764              27.180532              64.803155   \n",
       "3              50.299349              35.319695              79.822944   \n",
       "4              75.888749              61.003944              87.455509   \n",
       "5              89.545596              72.579530              89.462863   \n",
       "6              56.495169              52.526873              62.801103   \n",
       "7              79.533814              35.510554              45.811328   \n",
       "8              77.707001              33.095903              67.985045   \n",
       "9              61.922878              19.639653              54.220350   \n",
       "\n",
       "   COH.F.gamma.r.O1.s.O2  \n",
       "0              28.613029  \n",
       "1              43.463261  \n",
       "2              31.485799  \n",
       "3              41.141873  \n",
       "4              70.531662  \n",
       "5              86.127823  \n",
       "6              56.710212  \n",
       "7              60.417464  \n",
       "8              65.377007  \n",
       "9              53.456534  \n",
       "\n",
       "[10 rows x 1149 columns]"
      ]
     },
     "execution_count": 8,
     "metadata": {},
     "output_type": "execute_result"
    }
   ],
   "source": [
    "data.head(10)"
   ]
  },
  {
   "cell_type": "code",
   "execution_count": 9,
   "id": "ecca6383",
   "metadata": {
    "execution": {
     "iopub.execute_input": "2023-05-13T06:00:40.825415Z",
     "iopub.status.busy": "2023-05-13T06:00:40.824971Z",
     "iopub.status.idle": "2023-05-13T06:00:40.832996Z",
     "shell.execute_reply": "2023-05-13T06:00:40.831588Z"
    },
    "papermill": {
     "duration": 0.021441,
     "end_time": "2023-05-13T06:00:40.835554",
     "exception": false,
     "start_time": "2023-05-13T06:00:40.814113",
     "status": "completed"
    },
    "tags": []
   },
   "outputs": [
    {
     "data": {
      "text/plain": [
       "dtype('float64')"
      ]
     },
     "execution_count": 9,
     "metadata": {},
     "output_type": "execute_result"
    }
   ],
   "source": [
    "data['education'].dtypes"
   ]
  },
  {
   "cell_type": "code",
   "execution_count": 10,
   "id": "64bd1c2c",
   "metadata": {
    "execution": {
     "iopub.execute_input": "2023-05-13T06:00:40.856483Z",
     "iopub.status.busy": "2023-05-13T06:00:40.855597Z",
     "iopub.status.idle": "2023-05-13T06:00:41.109769Z",
     "shell.execute_reply": "2023-05-13T06:00:41.108364Z"
    },
    "papermill": {
     "duration": 0.268309,
     "end_time": "2023-05-13T06:00:41.113134",
     "exception": false,
     "start_time": "2023-05-13T06:00:40.844825",
     "status": "completed"
    },
    "tags": []
   },
   "outputs": [
    {
     "name": "stderr",
     "output_type": "stream",
     "text": [
      "/opt/conda/lib/python3.7/site-packages/ipykernel_launcher.py:1: FutureWarning: Dropping of nuisance columns in DataFrame reductions (with 'numeric_only=None') is deprecated; in a future version this will raise TypeError.  Select only valid columns before calling the reduction.\n",
      "  \"\"\"Entry point for launching an IPython kernel.\n"
     ]
    }
   ],
   "source": [
    "data = data.fillna(data.mean())"
   ]
  },
  {
   "cell_type": "code",
   "execution_count": 11,
   "id": "db89756c",
   "metadata": {
    "execution": {
     "iopub.execute_input": "2023-05-13T06:00:41.136364Z",
     "iopub.status.busy": "2023-05-13T06:00:41.135633Z",
     "iopub.status.idle": "2023-05-13T06:00:41.168184Z",
     "shell.execute_reply": "2023-05-13T06:00:41.166665Z"
    },
    "papermill": {
     "duration": 0.047366,
     "end_time": "2023-05-13T06:00:41.171202",
     "exception": false,
     "start_time": "2023-05-13T06:00:41.123836",
     "status": "completed"
    },
    "tags": []
   },
   "outputs": [
    {
     "data": {
      "text/html": [
       "<div>\n",
       "<style scoped>\n",
       "    .dataframe tbody tr th:only-of-type {\n",
       "        vertical-align: middle;\n",
       "    }\n",
       "\n",
       "    .dataframe tbody tr th {\n",
       "        vertical-align: top;\n",
       "    }\n",
       "\n",
       "    .dataframe thead th {\n",
       "        text-align: right;\n",
       "    }\n",
       "</style>\n",
       "<table border=\"1\" class=\"dataframe\">\n",
       "  <thead>\n",
       "    <tr style=\"text-align: right;\">\n",
       "      <th></th>\n",
       "      <th>no.</th>\n",
       "      <th>sex</th>\n",
       "      <th>age</th>\n",
       "      <th>eeg.date</th>\n",
       "      <th>education</th>\n",
       "      <th>IQ</th>\n",
       "      <th>main.disorder</th>\n",
       "      <th>specific.disorder</th>\n",
       "      <th>AB.A.delta.a.FP1</th>\n",
       "      <th>AB.A.delta.b.FP2</th>\n",
       "      <th>...</th>\n",
       "      <th>COH.F.gamma.o.Pz.p.P4</th>\n",
       "      <th>COH.F.gamma.o.Pz.q.T6</th>\n",
       "      <th>COH.F.gamma.o.Pz.r.O1</th>\n",
       "      <th>COH.F.gamma.o.Pz.s.O2</th>\n",
       "      <th>COH.F.gamma.p.P4.q.T6</th>\n",
       "      <th>COH.F.gamma.p.P4.r.O1</th>\n",
       "      <th>COH.F.gamma.p.P4.s.O2</th>\n",
       "      <th>COH.F.gamma.q.T6.r.O1</th>\n",
       "      <th>COH.F.gamma.q.T6.s.O2</th>\n",
       "      <th>COH.F.gamma.r.O1.s.O2</th>\n",
       "    </tr>\n",
       "  </thead>\n",
       "  <tbody>\n",
       "    <tr>\n",
       "      <th>0</th>\n",
       "      <td>1</td>\n",
       "      <td>M</td>\n",
       "      <td>57.0</td>\n",
       "      <td>2012.8.30</td>\n",
       "      <td>13.43871</td>\n",
       "      <td>101.580472</td>\n",
       "      <td>Addictive disorder</td>\n",
       "      <td>Alcohol use disorder</td>\n",
       "      <td>35.998557</td>\n",
       "      <td>21.717375</td>\n",
       "      <td>...</td>\n",
       "      <td>55.989192</td>\n",
       "      <td>16.739679</td>\n",
       "      <td>23.452271</td>\n",
       "      <td>45.678820</td>\n",
       "      <td>30.167520</td>\n",
       "      <td>16.918761</td>\n",
       "      <td>48.850427</td>\n",
       "      <td>9.422630</td>\n",
       "      <td>34.507082</td>\n",
       "      <td>28.613029</td>\n",
       "    </tr>\n",
       "    <tr>\n",
       "      <th>1</th>\n",
       "      <td>2</td>\n",
       "      <td>M</td>\n",
       "      <td>37.0</td>\n",
       "      <td>2012.9.6</td>\n",
       "      <td>6.00000</td>\n",
       "      <td>120.000000</td>\n",
       "      <td>Addictive disorder</td>\n",
       "      <td>Alcohol use disorder</td>\n",
       "      <td>13.425118</td>\n",
       "      <td>11.002916</td>\n",
       "      <td>...</td>\n",
       "      <td>45.595619</td>\n",
       "      <td>17.510824</td>\n",
       "      <td>26.777368</td>\n",
       "      <td>28.201062</td>\n",
       "      <td>57.108861</td>\n",
       "      <td>32.375401</td>\n",
       "      <td>60.351749</td>\n",
       "      <td>13.900981</td>\n",
       "      <td>57.831848</td>\n",
       "      <td>43.463261</td>\n",
       "    </tr>\n",
       "    <tr>\n",
       "      <th>2</th>\n",
       "      <td>3</td>\n",
       "      <td>M</td>\n",
       "      <td>32.0</td>\n",
       "      <td>2012.9.10</td>\n",
       "      <td>16.00000</td>\n",
       "      <td>113.000000</td>\n",
       "      <td>Addictive disorder</td>\n",
       "      <td>Alcohol use disorder</td>\n",
       "      <td>29.941780</td>\n",
       "      <td>27.544684</td>\n",
       "      <td>...</td>\n",
       "      <td>99.475453</td>\n",
       "      <td>70.654171</td>\n",
       "      <td>39.131547</td>\n",
       "      <td>69.920996</td>\n",
       "      <td>71.063644</td>\n",
       "      <td>38.534505</td>\n",
       "      <td>69.908764</td>\n",
       "      <td>27.180532</td>\n",
       "      <td>64.803155</td>\n",
       "      <td>31.485799</td>\n",
       "    </tr>\n",
       "    <tr>\n",
       "      <th>3</th>\n",
       "      <td>4</td>\n",
       "      <td>M</td>\n",
       "      <td>35.0</td>\n",
       "      <td>2012.10.8</td>\n",
       "      <td>18.00000</td>\n",
       "      <td>126.000000</td>\n",
       "      <td>Addictive disorder</td>\n",
       "      <td>Alcohol use disorder</td>\n",
       "      <td>21.496226</td>\n",
       "      <td>21.846832</td>\n",
       "      <td>...</td>\n",
       "      <td>59.986561</td>\n",
       "      <td>63.822201</td>\n",
       "      <td>36.478254</td>\n",
       "      <td>47.117006</td>\n",
       "      <td>84.658376</td>\n",
       "      <td>24.724096</td>\n",
       "      <td>50.299349</td>\n",
       "      <td>35.319695</td>\n",
       "      <td>79.822944</td>\n",
       "      <td>41.141873</td>\n",
       "    </tr>\n",
       "    <tr>\n",
       "      <th>4</th>\n",
       "      <td>5</td>\n",
       "      <td>M</td>\n",
       "      <td>36.0</td>\n",
       "      <td>2012.10.18</td>\n",
       "      <td>16.00000</td>\n",
       "      <td>112.000000</td>\n",
       "      <td>Addictive disorder</td>\n",
       "      <td>Alcohol use disorder</td>\n",
       "      <td>37.775667</td>\n",
       "      <td>33.607679</td>\n",
       "      <td>...</td>\n",
       "      <td>61.462720</td>\n",
       "      <td>59.166097</td>\n",
       "      <td>51.465531</td>\n",
       "      <td>58.635415</td>\n",
       "      <td>80.685608</td>\n",
       "      <td>62.138436</td>\n",
       "      <td>75.888749</td>\n",
       "      <td>61.003944</td>\n",
       "      <td>87.455509</td>\n",
       "      <td>70.531662</td>\n",
       "    </tr>\n",
       "  </tbody>\n",
       "</table>\n",
       "<p>5 rows × 1149 columns</p>\n",
       "</div>"
      ],
      "text/plain": [
       "   no. sex   age    eeg.date  education          IQ       main.disorder  \\\n",
       "0    1   M  57.0   2012.8.30   13.43871  101.580472  Addictive disorder   \n",
       "1    2   M  37.0    2012.9.6    6.00000  120.000000  Addictive disorder   \n",
       "2    3   M  32.0   2012.9.10   16.00000  113.000000  Addictive disorder   \n",
       "3    4   M  35.0   2012.10.8   18.00000  126.000000  Addictive disorder   \n",
       "4    5   M  36.0  2012.10.18   16.00000  112.000000  Addictive disorder   \n",
       "\n",
       "      specific.disorder  AB.A.delta.a.FP1  AB.A.delta.b.FP2  ...  \\\n",
       "0  Alcohol use disorder         35.998557         21.717375  ...   \n",
       "1  Alcohol use disorder         13.425118         11.002916  ...   \n",
       "2  Alcohol use disorder         29.941780         27.544684  ...   \n",
       "3  Alcohol use disorder         21.496226         21.846832  ...   \n",
       "4  Alcohol use disorder         37.775667         33.607679  ...   \n",
       "\n",
       "   COH.F.gamma.o.Pz.p.P4  COH.F.gamma.o.Pz.q.T6  COH.F.gamma.o.Pz.r.O1  \\\n",
       "0              55.989192              16.739679              23.452271   \n",
       "1              45.595619              17.510824              26.777368   \n",
       "2              99.475453              70.654171              39.131547   \n",
       "3              59.986561              63.822201              36.478254   \n",
       "4              61.462720              59.166097              51.465531   \n",
       "\n",
       "   COH.F.gamma.o.Pz.s.O2  COH.F.gamma.p.P4.q.T6  COH.F.gamma.p.P4.r.O1  \\\n",
       "0              45.678820              30.167520              16.918761   \n",
       "1              28.201062              57.108861              32.375401   \n",
       "2              69.920996              71.063644              38.534505   \n",
       "3              47.117006              84.658376              24.724096   \n",
       "4              58.635415              80.685608              62.138436   \n",
       "\n",
       "   COH.F.gamma.p.P4.s.O2  COH.F.gamma.q.T6.r.O1  COH.F.gamma.q.T6.s.O2  \\\n",
       "0              48.850427               9.422630              34.507082   \n",
       "1              60.351749              13.900981              57.831848   \n",
       "2              69.908764              27.180532              64.803155   \n",
       "3              50.299349              35.319695              79.822944   \n",
       "4              75.888749              61.003944              87.455509   \n",
       "\n",
       "   COH.F.gamma.r.O1.s.O2  \n",
       "0              28.613029  \n",
       "1              43.463261  \n",
       "2              31.485799  \n",
       "3              41.141873  \n",
       "4              70.531662  \n",
       "\n",
       "[5 rows x 1149 columns]"
      ]
     },
     "execution_count": 11,
     "metadata": {},
     "output_type": "execute_result"
    }
   ],
   "source": [
    "data.head()"
   ]
  },
  {
   "cell_type": "code",
   "execution_count": 12,
   "id": "4028c79a",
   "metadata": {
    "execution": {
     "iopub.execute_input": "2023-05-13T06:00:41.193471Z",
     "iopub.status.busy": "2023-05-13T06:00:41.193002Z",
     "iopub.status.idle": "2023-05-13T06:00:41.230613Z",
     "shell.execute_reply": "2023-05-13T06:00:41.229073Z"
    },
    "papermill": {
     "duration": 0.052742,
     "end_time": "2023-05-13T06:00:41.233844",
     "exception": false,
     "start_time": "2023-05-13T06:00:41.181102",
     "status": "completed"
    },
    "tags": []
   },
   "outputs": [],
   "source": [
    "from sklearn.preprocessing import OrdinalEncoder\n",
    "encoder = OrdinalEncoder()\n",
    "\n",
    "encoder.fit(data[['sex']])\n",
    "data['sex']= encoder.transform(data[['sex']])\n",
    "encoder.fit(data[['main.disorder']])\n",
    "data['main.disorder']= encoder.transform(data[['main.disorder']])\n",
    "\n",
    "encoder.fit(data[['specific.disorder']])\n",
    "data['specific.disorder']= encoder.transform(data[['specific.disorder']])\n"
   ]
  },
  {
   "cell_type": "code",
   "execution_count": 13,
   "id": "d77d753e",
   "metadata": {
    "execution": {
     "iopub.execute_input": "2023-05-13T06:00:41.255930Z",
     "iopub.status.busy": "2023-05-13T06:00:41.255508Z",
     "iopub.status.idle": "2023-05-13T06:00:41.274651Z",
     "shell.execute_reply": "2023-05-13T06:00:41.273298Z"
    },
    "papermill": {
     "duration": 0.034037,
     "end_time": "2023-05-13T06:00:41.278077",
     "exception": false,
     "start_time": "2023-05-13T06:00:41.244040",
     "status": "completed"
    },
    "tags": []
   },
   "outputs": [],
   "source": [
    "data = data.drop(columns =['no.', 'eeg.date'], axis =1)"
   ]
  },
  {
   "cell_type": "code",
   "execution_count": 14,
   "id": "9adc746f",
   "metadata": {
    "execution": {
     "iopub.execute_input": "2023-05-13T06:00:41.300682Z",
     "iopub.status.busy": "2023-05-13T06:00:41.300183Z",
     "iopub.status.idle": "2023-05-13T06:00:41.315087Z",
     "shell.execute_reply": "2023-05-13T06:00:41.313700Z"
    },
    "papermill": {
     "duration": 0.029599,
     "end_time": "2023-05-13T06:00:41.317888",
     "exception": false,
     "start_time": "2023-05-13T06:00:41.288289",
     "status": "completed"
    },
    "tags": []
   },
   "outputs": [
    {
     "data": {
      "text/plain": [
       "945"
      ]
     },
     "execution_count": 14,
     "metadata": {},
     "output_type": "execute_result"
    }
   ],
   "source": [
    "sum(data.isnull().sum())"
   ]
  },
  {
   "cell_type": "code",
   "execution_count": 15,
   "id": "0651b9f6",
   "metadata": {
    "execution": {
     "iopub.execute_input": "2023-05-13T06:00:41.342241Z",
     "iopub.status.busy": "2023-05-13T06:00:41.341793Z",
     "iopub.status.idle": "2023-05-13T06:00:41.456950Z",
     "shell.execute_reply": "2023-05-13T06:00:41.455486Z"
    },
    "papermill": {
     "duration": 0.131268,
     "end_time": "2023-05-13T06:00:41.460039",
     "exception": false,
     "start_time": "2023-05-13T06:00:41.328771",
     "status": "completed"
    },
    "tags": []
   },
   "outputs": [],
   "source": [
    "from sklearn.linear_model import ElasticNet\n",
    "from sklearn.model_selection import train_test_split\n",
    "X= data.drop(columns=['main.disorder','Unnamed: 122'], axis=1)\n",
    "y = data['main.disorder']"
   ]
  },
  {
   "cell_type": "code",
   "execution_count": 16,
   "id": "9062e607",
   "metadata": {
    "execution": {
     "iopub.execute_input": "2023-05-13T06:00:41.482730Z",
     "iopub.status.busy": "2023-05-13T06:00:41.481599Z",
     "iopub.status.idle": "2023-05-13T06:00:42.218584Z",
     "shell.execute_reply": "2023-05-13T06:00:42.217125Z"
    },
    "papermill": {
     "duration": 0.751602,
     "end_time": "2023-05-13T06:00:42.222019",
     "exception": false,
     "start_time": "2023-05-13T06:00:41.470417",
     "status": "completed"
    },
    "tags": []
   },
   "outputs": [
    {
     "name": "stderr",
     "output_type": "stream",
     "text": [
      "/opt/conda/lib/python3.7/site-packages/sklearn/linear_model/_coordinate_descent.py:648: ConvergenceWarning: Objective did not converge. You might want to increase the number of iterations, check the scale of the features or consider increasing regularisation. Duality gap: 8.563e+01, tolerance: 3.819e-01\n",
      "  coef_, l1_reg, l2_reg, X, y, max_iter, tol, rng, random, positive\n"
     ]
    },
    {
     "data": {
      "text/plain": [
       "ElasticNet(alpha=0.1)"
      ]
     },
     "execution_count": 16,
     "metadata": {},
     "output_type": "execute_result"
    }
   ],
   "source": [
    "elastic_net = ElasticNet( alpha =.1, l1_ratio= .5)\n",
    "elastic_net.fit(X, y)"
   ]
  },
  {
   "cell_type": "code",
   "execution_count": 17,
   "id": "f5597fc9",
   "metadata": {
    "execution": {
     "iopub.execute_input": "2023-05-13T06:00:42.264549Z",
     "iopub.status.busy": "2023-05-13T06:00:42.263922Z",
     "iopub.status.idle": "2023-05-13T06:00:42.271846Z",
     "shell.execute_reply": "2023-05-13T06:00:42.270456Z"
    },
    "papermill": {
     "duration": 0.03435,
     "end_time": "2023-05-13T06:00:42.275669",
     "exception": false,
     "start_time": "2023-05-13T06:00:42.241319",
     "status": "completed"
    },
    "tags": []
   },
   "outputs": [],
   "source": [
    "coef_abs = np.abs(elastic_net.coef_)\n",
    "sorted_coef_abs = np.argsort(coef_abs)[::-1]\n",
    "top_50_features = sorted_coef_abs[:50]"
   ]
  },
  {
   "cell_type": "code",
   "execution_count": 18,
   "id": "b04fba1c",
   "metadata": {
    "execution": {
     "iopub.execute_input": "2023-05-13T06:00:42.317713Z",
     "iopub.status.busy": "2023-05-13T06:00:42.317059Z",
     "iopub.status.idle": "2023-05-13T06:00:42.323803Z",
     "shell.execute_reply": "2023-05-13T06:00:42.322496Z"
    },
    "papermill": {
     "duration": 0.030859,
     "end_time": "2023-05-13T06:00:42.326670",
     "exception": false,
     "start_time": "2023-05-13T06:00:42.295811",
     "status": "completed"
    },
    "tags": []
   },
   "outputs": [],
   "source": [
    "top_50_feature_names = [X.columns[i] for i in top_50_features]"
   ]
  },
  {
   "cell_type": "code",
   "execution_count": 19,
   "id": "9ef90dbe",
   "metadata": {
    "execution": {
     "iopub.execute_input": "2023-05-13T06:00:42.348941Z",
     "iopub.status.busy": "2023-05-13T06:00:42.348535Z",
     "iopub.status.idle": "2023-05-13T06:00:42.590728Z",
     "shell.execute_reply": "2023-05-13T06:00:42.589679Z"
    },
    "papermill": {
     "duration": 0.256263,
     "end_time": "2023-05-13T06:00:42.593287",
     "exception": false,
     "start_time": "2023-05-13T06:00:42.337024",
     "status": "completed"
    },
    "tags": []
   },
   "outputs": [
    {
     "data": {
      "text/plain": [
       "<AxesSubplot:xlabel='main.disorder', ylabel='count'>"
      ]
     },
     "execution_count": 19,
     "metadata": {},
     "output_type": "execute_result"
    },
    {
     "data": {
      "image/png": "[encoded data removed]",
      "text/plain": [
       "<Figure size 640x480 with 1 Axes>"
      ]
     },
     "metadata": {},
     "output_type": "display_data"
    }
   ],
   "source": [
    "sns.countplot(x=\"main.disorder\",data=data)"
   ]
  },
  {
   "cell_type": "code",
   "execution_count": 20,
   "id": "7dddd64d",
   "metadata": {
    "execution": {
     "iopub.execute_input": "2023-05-13T06:00:42.616215Z",
     "iopub.status.busy": "2023-05-13T06:00:42.615516Z",
     "iopub.status.idle": "2023-05-13T06:00:42.620776Z",
     "shell.execute_reply": "2023-05-13T06:00:42.619668Z"
    },
    "papermill": {
     "duration": 0.019893,
     "end_time": "2023-05-13T06:00:42.623469",
     "exception": false,
     "start_time": "2023-05-13T06:00:42.603576",
     "status": "completed"
    },
    "tags": []
   },
   "outputs": [],
   "source": [
    "df1=[]"
   ]
  },
  {
   "cell_type": "code",
   "execution_count": 21,
   "id": "1e8f7bc8",
   "metadata": {
    "execution": {
     "iopub.execute_input": "2023-05-13T06:00:42.649254Z",
     "iopub.status.busy": "2023-05-13T06:00:42.648513Z",
     "iopub.status.idle": "2023-05-13T06:00:42.655963Z",
     "shell.execute_reply": "2023-05-13T06:00:42.655067Z"
    },
    "papermill": {
     "duration": 0.023469,
     "end_time": "2023-05-13T06:00:42.658366",
     "exception": false,
     "start_time": "2023-05-13T06:00:42.634897",
     "status": "completed"
    },
    "tags": []
   },
   "outputs": [],
   "source": [
    "for j in list(top_50_feature_names):\n",
    "   df1.append(data[j])"
   ]
  },
  {
   "cell_type": "code",
   "execution_count": 22,
   "id": "027b3e25",
   "metadata": {
    "execution": {
     "iopub.execute_input": "2023-05-13T06:00:42.681258Z",
     "iopub.status.busy": "2023-05-13T06:00:42.680596Z",
     "iopub.status.idle": "2023-05-13T06:00:42.688531Z",
     "shell.execute_reply": "2023-05-13T06:00:42.687559Z"
    },
    "papermill": {
     "duration": 0.022423,
     "end_time": "2023-05-13T06:00:42.691115",
     "exception": false,
     "start_time": "2023-05-13T06:00:42.668692",
     "status": "completed"
    },
    "tags": []
   },
   "outputs": [],
   "source": [
    " df1 = pd.concat(df1, axis = 1)"
   ]
  },
  {
   "cell_type": "code",
   "execution_count": 23,
   "id": "0f3af395",
   "metadata": {
    "execution": {
     "iopub.execute_input": "2023-05-13T06:00:42.714569Z",
     "iopub.status.busy": "2023-05-13T06:00:42.714092Z",
     "iopub.status.idle": "2023-05-13T06:00:43.263943Z",
     "shell.execute_reply": "2023-05-13T06:00:43.262337Z"
    },
    "papermill": {
     "duration": 0.566761,
     "end_time": "2023-05-13T06:00:43.268100",
     "exception": false,
     "start_time": "2023-05-13T06:00:42.701339",
     "status": "completed"
    },
    "tags": []
   },
   "outputs": [],
   "source": [
    "from imblearn.over_sampling import SMOTE\n",
    "smote = SMOTE(sampling_strategy ='all', random_state = 42)\n",
    "X_resampled, y_resampled = smote.fit_resample(df1, y)"
   ]
  },
  {
   "cell_type": "code",
   "execution_count": 24,
   "id": "97d790a2",
   "metadata": {
    "execution": {
     "iopub.execute_input": "2023-05-13T06:00:43.308617Z",
     "iopub.status.busy": "2023-05-13T06:00:43.307965Z",
     "iopub.status.idle": "2023-05-13T06:00:43.328884Z",
     "shell.execute_reply": "2023-05-13T06:00:43.327400Z"
    },
    "papermill": {
     "duration": 0.045535,
     "end_time": "2023-05-13T06:00:43.332977",
     "exception": false,
     "start_time": "2023-05-13T06:00:43.287442",
     "status": "completed"
    },
    "tags": []
   },
   "outputs": [],
   "source": [
    "from sklearn.preprocessing import StandardScaler\n",
    "scaler = StandardScaler()\n",
    "scaler.fit(X_resampled)\n",
    "# y = y.reshape(-1,1)\n",
    "df3= scaler.transform(X_resampled)\n",
    "# y= scaler.transform(y)"
   ]
  },
  {
   "cell_type": "code",
   "execution_count": 25,
   "id": "e564763f",
   "metadata": {
    "execution": {
     "iopub.execute_input": "2023-05-13T06:00:43.372940Z",
     "iopub.status.busy": "2023-05-13T06:00:43.371543Z",
     "iopub.status.idle": "2023-05-13T06:00:43.383657Z",
     "shell.execute_reply": "2023-05-13T06:00:43.382276Z"
    },
    "papermill": {
     "duration": 0.034192,
     "end_time": "2023-05-13T06:00:43.386756",
     "exception": false,
     "start_time": "2023-05-13T06:00:43.352564",
     "status": "completed"
    },
    "tags": []
   },
   "outputs": [],
   "source": [
    "X_train, X_test, y_train, y_test = train_test_split(df3, y_resampled , test_size =.2, stratify = y_resampled)"
   ]
  },
  {
   "cell_type": "code",
   "execution_count": 26,
   "id": "065b8ca8",
   "metadata": {
    "execution": {
     "iopub.execute_input": "2023-05-13T06:00:43.411704Z",
     "iopub.status.busy": "2023-05-13T06:00:43.410677Z",
     "iopub.status.idle": "2023-05-13T06:00:43.442693Z",
     "shell.execute_reply": "2023-05-13T06:00:43.441293Z"
    },
    "papermill": {
     "duration": 0.047568,
     "end_time": "2023-05-13T06:00:43.445382",
     "exception": false,
     "start_time": "2023-05-13T06:00:43.397814",
     "status": "completed"
    },
    "tags": []
   },
   "outputs": [],
   "source": [
    "from sklearn.discriminant_analysis import LinearDiscriminantAnalysis\n",
    "from sklearn.discriminant_analysis import QuadraticDiscriminantAnalysis\n",
    "from sklearn.metrics import confusion_matrix, classification_report\n",
    "from sklearn.metrics import precision_score\n",
    "from sklearn.metrics import accuracy_score\n",
    "from sklearn.metrics import recall_score"
   ]
  },
  {
   "cell_type": "code",
   "execution_count": 27,
   "id": "de7b6fee",
   "metadata": {
    "execution": {
     "iopub.execute_input": "2023-05-13T06:00:43.469588Z",
     "iopub.status.busy": "2023-05-13T06:00:43.468443Z",
     "iopub.status.idle": "2023-05-13T06:00:45.136855Z",
     "shell.execute_reply": "2023-05-13T06:00:45.135572Z"
    },
    "papermill": {
     "duration": 1.684294,
     "end_time": "2023-05-13T06:00:45.140316",
     "exception": false,
     "start_time": "2023-05-13T06:00:43.456022",
     "status": "completed"
    },
    "tags": []
   },
   "outputs": [
    {
     "data": {
      "text/html": [
       "<style type='text/css'>\n",
       ".datatable table.frame { margin-bottom: 0; }\n",
       ".datatable table.frame thead { border-bottom: none; }\n",
       ".datatable table.frame tr.coltypes td {  color: #FFFFFF;  line-height: 6px;  padding: 0 0.5em;}\n",
       ".datatable .bool    { background: #DDDD99; }\n",
       ".datatable .object  { background: #565656; }\n",
       ".datatable .int     { background: #5D9E5D; }\n",
       ".datatable .float   { background: #4040CC; }\n",
       ".datatable .str     { background: #CC4040; }\n",
       ".datatable .time    { background: #40CC40; }\n",
       ".datatable .row_index {  background: var(--jp-border-color3);  border-right: 1px solid var(--jp-border-color0);  color: var(--jp-ui-font-color3);  font-size: 9px;}\n",
       ".datatable .frame tbody td { text-align: left; }\n",
       ".datatable .frame tr.coltypes .row_index {  background: var(--jp-border-color0);}\n",
       ".datatable th:nth-child(2) { padding-left: 12px; }\n",
       ".datatable .hellipsis {  color: var(--jp-cell-editor-border-color);}\n",
       ".datatable .vellipsis {  background: var(--jp-layout-color0);  color: var(--jp-cell-editor-border-color);}\n",
       ".datatable .na {  color: var(--jp-cell-editor-border-color);  font-size: 80%;}\n",
       ".datatable .sp {  opacity: 0.25;}\n",
       ".datatable .footer { font-size: 9px; }\n",
       ".datatable .frame_dimensions {  background: var(--jp-border-color3);  border-top: 1px solid var(--jp-border-color0);  color: var(--jp-ui-font-color3);  display: inline-block;  opacity: 0.6;  padding: 1px 10px 1px 5px;}\n",
       "</style>\n"
      ],
      "text/plain": [
       "<IPython.core.display.HTML object>"
      ]
     },
     "metadata": {},
     "output_type": "display_data"
    }
   ],
   "source": [
    "from sklearn.ensemble import AdaBoostClassifier\n",
    "from sklearn.ensemble import GradientBoostingClassifier\n",
    "from xgboost import XGBClassifier\n",
    "import lightgbm as lgb"
   ]
  },
  {
   "cell_type": "code",
   "execution_count": 28,
   "id": "27560215",
   "metadata": {
    "execution": {
     "iopub.execute_input": "2023-05-13T06:00:45.164589Z",
     "iopub.status.busy": "2023-05-13T06:00:45.164121Z",
     "iopub.status.idle": "2023-05-13T06:00:45.170057Z",
     "shell.execute_reply": "2023-05-13T06:00:45.168775Z"
    },
    "papermill": {
     "duration": 0.021199,
     "end_time": "2023-05-13T06:00:45.172710",
     "exception": false,
     "start_time": "2023-05-13T06:00:45.151511",
     "status": "completed"
    },
    "tags": []
   },
   "outputs": [],
   "source": [
    "from sklearn.model_selection import KFold, cross_val_score"
   ]
  },
  {
   "cell_type": "code",
   "execution_count": 29,
   "id": "5f691a7c",
   "metadata": {
    "execution": {
     "iopub.execute_input": "2023-05-13T06:00:45.196769Z",
     "iopub.status.busy": "2023-05-13T06:00:45.196285Z",
     "iopub.status.idle": "2023-05-13T06:00:45.210589Z",
     "shell.execute_reply": "2023-05-13T06:00:45.209298Z"
    },
    "papermill": {
     "duration": 0.029535,
     "end_time": "2023-05-13T06:00:45.213185",
     "exception": false,
     "start_time": "2023-05-13T06:00:45.183650",
     "status": "completed"
    },
    "tags": []
   },
   "outputs": [],
   "source": [
    "def my_function(model):\n",
    "    model.fit(X_train, y_train)\n",
    "    test_data_prediction = model.predict(X_test)\n",
    "    accuracy = accuracy_score(y_test, test_data_prediction)\n",
    "    precision = precision_score(test_data_prediction, y_test, average='weighted')\n",
    "    precision1 = precision_score(test_data_prediction, y_test, average='macro')\n",
    "    precision2 = precision_score(test_data_prediction, y_test, average='micro')\n",
    "    recall = recall_score(y_test, test_data_prediction, average='weighted')\n",
    "    recall1 = recall_score(y_test, test_data_prediction, average='macro')\n",
    "    recall2 = recall_score(y_test, test_data_prediction, average='micro')\n",
    "    f1_score = 2 * (precision * recall) / (precision + recall)\n",
    "    f1_score1 = 2 * (precision1 * recall1) / (precision1 + recall1)\n",
    "    f1_score2 = 2 * (precision2 * recall2) / (precision2+ recall2)\n",
    "    kf = KFold(n_splits=10, shuffle=True)\n",
    "\n",
    "\n",
    "\n",
    "    # Evaluate model using cross-validation\n",
    "    scores = cross_val_score(model, X_train, y_train, cv=kf)\n",
    "    print(scores)\n",
    "\n",
    "    # Print average score\n",
    "    print(\"Cross Validation Accuracy: %0.4f\" % scores.mean())\n",
    "    # fpr, tpr, thresholds = metrics.roc_curve(Y_test, test_data_prediction)\n",
    "    # auc = metrics.auc(fpr, tpr)\n",
    "    print('Accuracy score of the model', model , '=', round(accuracy,4))\n",
    "    print('Weighted Precision score of the model', model , '=', round(precision,4))\n",
    "    print('Macro Precision1 score of the model', model , '=', round(precision1,4))\n",
    "    print('Micro Precision2 score of the model', model , '=', round(precision2,4))\n",
    "    print('Weighted Recall score of the model', model , '=', round(recall,4))\n",
    "    print('Macro Recall1 score of the model', model , '=', round(recall1,4))\n",
    "    print('Micro Recall2 score of the model', model , '=', round(recall2,4))\n",
    "    print('Weighted F1_score score of the model', model , '=', round(f1_score,4))\n",
    "    print('Macro F1_score1 score of the model', model , '=', round(f1_score1,4))\n",
    "    print('Micro F1_score2 score of the model', model , '=', round(f1_score2,4))\n",
    "    # print('Cross validation accuracies for the', model, '=', cv_score, 'and', mean_accuracy)\n",
    "    # print('AUC score for the', model, '=', round(auc,4))\n",
    "\n",
    "\n",
    "    cr= classification_report(y_test, test_data_prediction) \n",
    "\n",
    "    print(cr)\n",
    "\n"
   ]
  },
  {
   "cell_type": "code",
   "execution_count": 30,
   "id": "291404b3",
   "metadata": {
    "execution": {
     "iopub.execute_input": "2023-05-13T06:00:45.237791Z",
     "iopub.status.busy": "2023-05-13T06:00:45.236548Z",
     "iopub.status.idle": "2023-05-13T06:01:26.912484Z",
     "shell.execute_reply": "2023-05-13T06:01:26.910472Z"
    },
    "papermill": {
     "duration": 41.701649,
     "end_time": "2023-05-13T06:01:26.925227",
     "exception": false,
     "start_time": "2023-05-13T06:00:45.223578",
     "status": "completed"
    },
    "tags": []
   },
   "outputs": [
    {
     "name": "stdout",
     "output_type": "stream",
     "text": [
      "[0.97315436 0.95973154 0.96644295 0.99328859 0.97315436 0.99328859\n",
      " 0.97986577 0.97315436 0.99328859 0.98648649]\n",
      "Cross Validation Accuracy: 0.9792\n",
      "Accuracy score of the model LGBMClassifier() = 0.9839\n",
      "Weighted Precision score of the model LGBMClassifier() = 0.9847\n",
      "Macro Precision1 score of the model LGBMClassifier() = 0.9838\n",
      "Micro Precision2 score of the model LGBMClassifier() = 0.9839\n",
      "Weighted Recall score of the model LGBMClassifier() = 0.9839\n",
      "Macro Recall1 score of the model LGBMClassifier() = 0.9838\n",
      "Micro Recall2 score of the model LGBMClassifier() = 0.9839\n",
      "Weighted F1_score score of the model LGBMClassifier() = 0.9843\n",
      "Macro F1_score1 score of the model LGBMClassifier() = 0.9838\n",
      "Micro F1_score2 score of the model LGBMClassifier() = 0.9839\n",
      "              precision    recall  f1-score   support\n",
      "\n",
      "         0.0       0.95      1.00      0.97        54\n",
      "         1.0       1.00      0.96      0.98        53\n",
      "         2.0       1.00      1.00      1.00        54\n",
      "         3.0       0.98      1.00      0.99        53\n",
      "         4.0       1.00      1.00      1.00        53\n",
      "         5.0       0.98      1.00      0.99        53\n",
      "         6.0       0.98      0.92      0.95        53\n",
      "\n",
      "    accuracy                           0.98       373\n",
      "   macro avg       0.98      0.98      0.98       373\n",
      "weighted avg       0.98      0.98      0.98       373\n",
      "\n"
     ]
    }
   ],
   "source": [
    "my_function(lgb.LGBMClassifier())"
   ]
  },
  {
   "cell_type": "code",
   "execution_count": 31,
   "id": "8c399b75",
   "metadata": {
    "execution": {
     "iopub.execute_input": "2023-05-13T06:01:26.948227Z",
     "iopub.status.busy": "2023-05-13T06:01:26.947283Z",
     "iopub.status.idle": "2023-05-13T06:04:01.210705Z",
     "shell.execute_reply": "2023-05-13T06:04:01.209418Z"
    },
    "papermill": {
     "duration": 154.288118,
     "end_time": "2023-05-13T06:04:01.223632",
     "exception": false,
     "start_time": "2023-05-13T06:01:26.935514",
     "status": "completed"
    },
    "tags": []
   },
   "outputs": [
    {
     "name": "stdout",
     "output_type": "stream",
     "text": [
      "[0.99328859 0.99328859 0.99328859 1.         0.99328859 0.98657718\n",
      " 0.99328859 0.98657718 0.96644295 0.99324324]\n",
      "Cross Validation Accuracy: 0.9899\n",
      "Accuracy score of the model GradientBoostingClassifier() = 0.9893\n",
      "Weighted Precision score of the model GradientBoostingClassifier() = 0.9897\n",
      "Macro Precision1 score of the model GradientBoostingClassifier() = 0.9892\n",
      "Micro Precision2 score of the model GradientBoostingClassifier() = 0.9893\n",
      "Weighted Recall score of the model GradientBoostingClassifier() = 0.9893\n",
      "Macro Recall1 score of the model GradientBoostingClassifier() = 0.9892\n",
      "Micro Recall2 score of the model GradientBoostingClassifier() = 0.9893\n",
      "Weighted F1_score score of the model GradientBoostingClassifier() = 0.9895\n",
      "Macro F1_score1 score of the model GradientBoostingClassifier() = 0.9892\n",
      "Micro F1_score2 score of the model GradientBoostingClassifier() = 0.9893\n",
      "              precision    recall  f1-score   support\n",
      "\n",
      "         0.0       0.96      1.00      0.98        54\n",
      "         1.0       0.98      0.98      0.98        53\n",
      "         2.0       1.00      1.00      1.00        54\n",
      "         3.0       1.00      1.00      1.00        53\n",
      "         4.0       1.00      1.00      1.00        53\n",
      "         5.0       0.98      1.00      0.99        53\n",
      "         6.0       1.00      0.94      0.97        53\n",
      "\n",
      "    accuracy                           0.99       373\n",
      "   macro avg       0.99      0.99      0.99       373\n",
      "weighted avg       0.99      0.99      0.99       373\n",
      "\n"
     ]
    }
   ],
   "source": [
    "my_function(GradientBoostingClassifier())"
   ]
  },
  {
   "cell_type": "code",
   "execution_count": 32,
   "id": "a4971e5c",
   "metadata": {
    "execution": {
     "iopub.execute_input": "2023-05-13T06:04:01.246861Z",
     "iopub.status.busy": "2023-05-13T06:04:01.246438Z",
     "iopub.status.idle": "2023-05-13T06:04:30.042406Z",
     "shell.execute_reply": "2023-05-13T06:04:30.041057Z"
    },
    "papermill": {
     "duration": 28.811823,
     "end_time": "2023-05-13T06:04:30.045790",
     "exception": false,
     "start_time": "2023-05-13T06:04:01.233967",
     "status": "completed"
    },
    "tags": []
   },
   "outputs": [
    {
     "name": "stdout",
     "output_type": "stream",
     "text": [
      "[0.99328859 1.         0.98657718 0.99328859 0.97315436 0.97315436\n",
      " 0.97986577 0.99328859 0.97315436 0.98648649]\n",
      "Cross Validation Accuracy: 0.9852\n",
      "Accuracy score of the model XGBClassifier(base_score=0.5, booster='gbtree', callbacks=None,\n",
      "              colsample_bylevel=1, colsample_bynode=1, colsample_bytree=1,\n",
      "              early_stopping_rounds=None, enable_categorical=False,\n",
      "              eval_metric=None, gamma=0, gpu_id=-1, grow_policy='depthwise',\n",
      "              importance_type=None, interaction_constraints='',\n",
      "              learning_rate=0.300000012, max_bin=256, max_cat_to_onehot=4,\n",
      "              max_delta_step=0, max_depth=6, max_leaves=0, min_child_weight=1,\n",
      "              missing=nan, monotone_constraints='()', n_estimators=100,\n",
      "              n_jobs=0, num_parallel_tree=1, objective='multi:softprob',\n",
      "              predictor='auto', random_state=0, reg_alpha=0, ...) = 0.9866\n",
      "Weighted Precision score of the model XGBClassifier(base_score=0.5, booster='gbtree', callbacks=None,\n",
      "              colsample_bylevel=1, colsample_bynode=1, colsample_bytree=1,\n",
      "              early_stopping_rounds=None, enable_categorical=False,\n",
      "              eval_metric=None, gamma=0, gpu_id=-1, grow_policy='depthwise',\n",
      "              importance_type=None, interaction_constraints='',\n",
      "              learning_rate=0.300000012, max_bin=256, max_cat_to_onehot=4,\n",
      "              max_delta_step=0, max_depth=6, max_leaves=0, min_child_weight=1,\n",
      "              missing=nan, monotone_constraints='()', n_estimators=100,\n",
      "              n_jobs=0, num_parallel_tree=1, objective='multi:softprob',\n",
      "              predictor='auto', random_state=0, reg_alpha=0, ...) = 0.9874\n",
      "Macro Precision1 score of the model XGBClassifier(base_score=0.5, booster='gbtree', callbacks=None,\n",
      "              colsample_bylevel=1, colsample_bynode=1, colsample_bytree=1,\n",
      "              early_stopping_rounds=None, enable_categorical=False,\n",
      "              eval_metric=None, gamma=0, gpu_id=-1, grow_policy='depthwise',\n",
      "              importance_type=None, interaction_constraints='',\n",
      "              learning_rate=0.300000012, max_bin=256, max_cat_to_onehot=4,\n",
      "              max_delta_step=0, max_depth=6, max_leaves=0, min_child_weight=1,\n",
      "              missing=nan, monotone_constraints='()', n_estimators=100,\n",
      "              n_jobs=0, num_parallel_tree=1, objective='multi:softprob',\n",
      "              predictor='auto', random_state=0, reg_alpha=0, ...) = 0.9865\n",
      "Micro Precision2 score of the model XGBClassifier(base_score=0.5, booster='gbtree', callbacks=None,\n",
      "              colsample_bylevel=1, colsample_bynode=1, colsample_bytree=1,\n",
      "              early_stopping_rounds=None, enable_categorical=False,\n",
      "              eval_metric=None, gamma=0, gpu_id=-1, grow_policy='depthwise',\n",
      "              importance_type=None, interaction_constraints='',\n",
      "              learning_rate=0.300000012, max_bin=256, max_cat_to_onehot=4,\n",
      "              max_delta_step=0, max_depth=6, max_leaves=0, min_child_weight=1,\n",
      "              missing=nan, monotone_constraints='()', n_estimators=100,\n",
      "              n_jobs=0, num_parallel_tree=1, objective='multi:softprob',\n",
      "              predictor='auto', random_state=0, reg_alpha=0, ...) = 0.9866\n",
      "Weighted Recall score of the model XGBClassifier(base_score=0.5, booster='gbtree', callbacks=None,\n",
      "              colsample_bylevel=1, colsample_bynode=1, colsample_bytree=1,\n",
      "              early_stopping_rounds=None, enable_categorical=False,\n",
      "              eval_metric=None, gamma=0, gpu_id=-1, grow_policy='depthwise',\n",
      "              importance_type=None, interaction_constraints='',\n",
      "              learning_rate=0.300000012, max_bin=256, max_cat_to_onehot=4,\n",
      "              max_delta_step=0, max_depth=6, max_leaves=0, min_child_weight=1,\n",
      "              missing=nan, monotone_constraints='()', n_estimators=100,\n",
      "              n_jobs=0, num_parallel_tree=1, objective='multi:softprob',\n",
      "              predictor='auto', random_state=0, reg_alpha=0, ...) = 0.9866\n",
      "Macro Recall1 score of the model XGBClassifier(base_score=0.5, booster='gbtree', callbacks=None,\n",
      "              colsample_bylevel=1, colsample_bynode=1, colsample_bytree=1,\n",
      "              early_stopping_rounds=None, enable_categorical=False,\n",
      "              eval_metric=None, gamma=0, gpu_id=-1, grow_policy='depthwise',\n",
      "              importance_type=None, interaction_constraints='',\n",
      "              learning_rate=0.300000012, max_bin=256, max_cat_to_onehot=4,\n",
      "              max_delta_step=0, max_depth=6, max_leaves=0, min_child_weight=1,\n",
      "              missing=nan, monotone_constraints='()', n_estimators=100,\n",
      "              n_jobs=0, num_parallel_tree=1, objective='multi:softprob',\n",
      "              predictor='auto', random_state=0, reg_alpha=0, ...) = 0.9865\n",
      "Micro Recall2 score of the model XGBClassifier(base_score=0.5, booster='gbtree', callbacks=None,\n",
      "              colsample_bylevel=1, colsample_bynode=1, colsample_bytree=1,\n",
      "              early_stopping_rounds=None, enable_categorical=False,\n",
      "              eval_metric=None, gamma=0, gpu_id=-1, grow_policy='depthwise',\n",
      "              importance_type=None, interaction_constraints='',\n",
      "              learning_rate=0.300000012, max_bin=256, max_cat_to_onehot=4,\n",
      "              max_delta_step=0, max_depth=6, max_leaves=0, min_child_weight=1,\n",
      "              missing=nan, monotone_constraints='()', n_estimators=100,\n",
      "              n_jobs=0, num_parallel_tree=1, objective='multi:softprob',\n",
      "              predictor='auto', random_state=0, reg_alpha=0, ...) = 0.9866\n",
      "Weighted F1_score score of the model XGBClassifier(base_score=0.5, booster='gbtree', callbacks=None,\n",
      "              colsample_bylevel=1, colsample_bynode=1, colsample_bytree=1,\n",
      "              early_stopping_rounds=None, enable_categorical=False,\n",
      "              eval_metric=None, gamma=0, gpu_id=-1, grow_policy='depthwise',\n",
      "              importance_type=None, interaction_constraints='',\n",
      "              learning_rate=0.300000012, max_bin=256, max_cat_to_onehot=4,\n",
      "              max_delta_step=0, max_depth=6, max_leaves=0, min_child_weight=1,\n",
      "              missing=nan, monotone_constraints='()', n_estimators=100,\n",
      "              n_jobs=0, num_parallel_tree=1, objective='multi:softprob',\n",
      "              predictor='auto', random_state=0, reg_alpha=0, ...) = 0.987\n",
      "Macro F1_score1 score of the model XGBClassifier(base_score=0.5, booster='gbtree', callbacks=None,\n",
      "              colsample_bylevel=1, colsample_bynode=1, colsample_bytree=1,\n",
      "              early_stopping_rounds=None, enable_categorical=False,\n",
      "              eval_metric=None, gamma=0, gpu_id=-1, grow_policy='depthwise',\n",
      "              importance_type=None, interaction_constraints='',\n",
      "              learning_rate=0.300000012, max_bin=256, max_cat_to_onehot=4,\n",
      "              max_delta_step=0, max_depth=6, max_leaves=0, min_child_weight=1,\n",
      "              missing=nan, monotone_constraints='()', n_estimators=100,\n",
      "              n_jobs=0, num_parallel_tree=1, objective='multi:softprob',\n",
      "              predictor='auto', random_state=0, reg_alpha=0, ...) = 0.9865\n",
      "Micro F1_score2 score of the model XGBClassifier(base_score=0.5, booster='gbtree', callbacks=None,\n",
      "              colsample_bylevel=1, colsample_bynode=1, colsample_bytree=1,\n",
      "              early_stopping_rounds=None, enable_categorical=False,\n",
      "              eval_metric=None, gamma=0, gpu_id=-1, grow_policy='depthwise',\n",
      "              importance_type=None, interaction_constraints='',\n",
      "              learning_rate=0.300000012, max_bin=256, max_cat_to_onehot=4,\n",
      "              max_delta_step=0, max_depth=6, max_leaves=0, min_child_weight=1,\n",
      "              missing=nan, monotone_constraints='()', n_estimators=100,\n",
      "              n_jobs=0, num_parallel_tree=1, objective='multi:softprob',\n",
      "              predictor='auto', random_state=0, reg_alpha=0, ...) = 0.9866\n",
      "              precision    recall  f1-score   support\n",
      "\n",
      "         0.0       0.96      1.00      0.98        54\n",
      "         1.0       0.98      0.98      0.98        53\n",
      "         2.0       1.00      1.00      1.00        54\n",
      "         3.0       0.98      1.00      0.99        53\n",
      "         4.0       1.00      1.00      1.00        53\n",
      "         5.0       0.98      1.00      0.99        53\n",
      "         6.0       1.00      0.92      0.96        53\n",
      "\n",
      "    accuracy                           0.99       373\n",
      "   macro avg       0.99      0.99      0.99       373\n",
      "weighted avg       0.99      0.99      0.99       373\n",
      "\n"
     ]
    }
   ],
   "source": [
    "my_function(XGBClassifier())"
   ]
  },
  {
   "cell_type": "code",
   "execution_count": null,
   "id": "35d145e7",
   "metadata": {
    "papermill": {
     "duration": 0.010649,
     "end_time": "2023-05-13T06:04:30.067339",
     "exception": false,
     "start_time": "2023-05-13T06:04:30.056690",
     "status": "completed"
    },
    "tags": []
   },
   "outputs": [],
   "source": []
  },
  {
   "cell_type": "code",
   "execution_count": null,
   "id": "bb71f310",
   "metadata": {
    "papermill": {
     "duration": 0.010383,
     "end_time": "2023-05-13T06:04:30.088648",
     "exception": false,
     "start_time": "2023-05-13T06:04:30.078265",
     "status": "completed"
    },
    "tags": []
   },
   "outputs": [],
   "source": []
  }
 ],
 "metadata": {
  "kernelspec": {
   "display_name": "Python 3",
   "language": "python",
   "name": "python3"
  },
  "language_info": {
   "codemirror_mode": {
    "name": "ipython",
    "version": 3
   },
   "file_extension": ".py",
   "mimetype": "text/x-python",
   "name": "python",
   "nbconvert_exporter": "python",
   "pygments_lexer": "ipython3",
   "version": "3.7.12"
  },
  "papermill": {
   "default_parameters": {},
   "duration": 244.674079,
   "end_time": "2023-05-13T06:04:30.922755",
   "environment_variables": {},
   "exception": null,
   "input_path": "__notebook__.ipynb",
   "output_path": "__notebook__.ipynb",
   "parameters": {},
   "start_time": "2023-05-13T06:00:26.248676",
   "version": "2.4.0"
  }
 },
 "nbformat": 4,
 "nbformat_minor": 5
}
